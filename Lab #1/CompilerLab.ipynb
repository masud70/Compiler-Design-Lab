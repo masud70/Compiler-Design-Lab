{
  "cells": [
    {
      "cell_type": "markdown",
      "metadata": {
        "id": "4itlDqhe9SfE"
      },
      "source": [
        "# ১০ টি জটিল বাক্য\n",
        "\n",
        "---\n",
        "\n",
        "\n",
        "\n",
        "১। যদি তুমি আসো, তবে আমি যাবো।\\\n",
        "২। যে পড়াশোনা করবে, সে গাড়িতে চড়বে\\\n",
        "৩। যত পড়বে, তত জানবে।\\\n",
        "৪। যেমনটা আমি চেয়েছিলাম, তেমনটা পাইনি।\\\n",
        "৫। যারা দেশপ্রেমিক, তারা দেশকে ভালোবাসে।\\\n",
        "৬। যদিও লোকটি গরিব, তথাপি সে অতিথিপরায়ণ।\\\n",
        "৭। যতই পরিশ্রম করবে, ততই ফল পাবে।\\\n",
        "৮। যে অপরাধ করেছে, সে শাস্তি পেয়েছে।\\\n",
        "৯। যখন বিপদ আসে, তখন দুঃখও আসে।\\\n",
        "১০। যে অন্ধ, তাকে আলো দাও।"
      ]
    },
    {
      "cell_type": "markdown",
      "metadata": {
        "id": "rAaAwPLd-0Dw"
      },
      "source": [
        "# Context Free Grammar\n",
        "---\n",
        "\n",
        "বাক্য --> সাপেক্ষ_সর্বনাম_শুরু + খন্ড_বাক্য + , + সাপেক্ষ_সর্বনাম_শেষ + খন্ড_বাক্য\\\n",
        "খন্ড_বাক্য --> বিশেষ্য + খন্ড_বাক্য_শেষ । সর্বনাম + খন্ড_বাক্য_শেষ\\\n",
        "খন্ড_বাক্য_শেষ --> ক্রিয়া । বিশেষণ\n",
        "\n",
        "সাপেক্ষ_সর্বনাম_শুরু --> যদি । যে । যত । যেমনটা । যারা । যদিও । যতই । যখন\\\n",
        "সাপেক্ষ_সর্বনাম_শেষ --> তবে । সে । তত । তেমনটা । তারা । তথাপি । ততই । তখন\\\n",
        "\n",
        "বিশেষ্য -->  বিপদ । দুঃখও । অপরাধ । শাস্তি । আলো । পড়াশোনা । গাড়িতে । e\\\n",
        "বিশেষণ --> গরিব । অন্ধ । দেশপ্রেমিক । অতিথিপরায়ণ\\\n",
        "সর্বনাম --> তুমি । আমি । আমার ভাই । লোকটি । সে । e\\\n",
        "ক্রিয়া --> আসো । দাও । আসে । করেছে । পেয়েছে । করবে । পাবে । চড়বে । ভালোবাসে । যাবো । জানবে । পড়বে । এসেছিলো । চেয়েছিলাম । পাইনি । e"
      ]
    },
    {
      "cell_type": "markdown",
      "metadata": {
        "id": "hbskjPMX-WWG"
      },
      "source": [
        "# Data Prepare"
      ]
    },
    {
      "cell_type": "code",
      "execution_count": 1,
      "metadata": {
        "id": "vg1NJ_Ww-e3-"
      },
      "outputs": [],
      "source": [
        "pronoun_start = ['যদি', 'যে', 'যত', 'যেমনটা', 'যারা', 'যদিও', 'যতই', 'যখন']\n",
        "pronoun_end = ['তবে', 'সে', 'তত', 'তেমনটা', 'তারা', 'তথাপি', 'ততই', 'তখন']\n",
        "noun = ['বিপদ', 'দুঃখও', 'অপরাধ', 'শাস্তি', 'আলো', 'পড়াশোনা', 'গাড়িতে']\n",
        "adjective = ['গরিব', 'অন্ধ', 'দেশপ্রেমিক', 'অতিথিপরায়ণ']\n",
        "pronoun = ['তুমি', 'আমি', 'আমার ভাই', 'লোকটি', 'সে']\n",
        "verb = ['আসো', 'দাও', 'আসে', 'করেছে', 'পেয়েছে', 'করবে', 'পাবে', 'চড়বে', 'ভালোবাসে', 'যাবো', 'জানবে', 'পড়বে', 'এসেছিলো', 'চেয়েছিলাম', 'পাইনি']"
      ]
    },
    {
      "cell_type": "markdown",
      "metadata": {
        "id": "ks6z1EEfAm3E"
      },
      "source": [
        "# Main Function"
      ]
    },
    {
      "cell_type": "code",
      "execution_count": 4,
      "metadata": {
        "id": "jFGc2umHBd-R"
      },
      "outputs": [],
      "source": [
        "class Complex_sentence_parser:\n",
        "    def __init__(self, sentence):\n",
        "        self.words = sentence.split(' ')\n",
        "        self.index = -1\n",
        "\n",
        "    def get_next_token(self):\n",
        "        self.index += 1\n",
        "        if(self.index == len(self.words)):\n",
        "            return '#'\n",
        "        return self.words[self.index]\n",
        "\n",
        "    def Noun(self, token):\n",
        "        if token not in noun:\n",
        "            return self.SS2(token)\n",
        "        else:\n",
        "            return self.SS2(self.get_next_token())\n",
        "\n",
        "    def Pronoun(self, token):\n",
        "        if token not in pronoun:\n",
        "            return self.SS2(token)\n",
        "        else:\n",
        "            return self.SS2(self.get_next_token())\n",
        "\n",
        "    def Verb(self, token):\n",
        "        if token not in verb:\n",
        "            return False\n",
        "        else:\n",
        "            return True\n",
        "\n",
        "    def Adjective(self, token):\n",
        "        if token not in adjective:\n",
        "            return False\n",
        "        else:\n",
        "            return True\n",
        "\n",
        "    def PS(self, token):\n",
        "        if token not in pronoun_start:\n",
        "            raise Exception('Pronoun start does not exist.')\n",
        "        else:\n",
        "            return True\n",
        "\n",
        "    def PE(self, token):\n",
        "        if token not in pronoun_end:\n",
        "            raise Exception('Pronoun end does not exist.')\n",
        "        else:\n",
        "            return True\n",
        "\n",
        "    def SS(self, token):\n",
        "        if self.Noun(token) or self.Pronoun(token):\n",
        "            return True\n",
        "        else:\n",
        "            raise Exception('Invalid sentence segment.')\n",
        "\n",
        "    def SS2(self, token):\n",
        "        if self.Verb(token) or self.Adjective(token):\n",
        "            return True\n",
        "        else:\n",
        "            return False\n",
        "\n",
        "    def Has_comma(self, token):\n",
        "        if token == ',':\n",
        "            return True\n",
        "        else:\n",
        "            raise Exception('Comma does not exist.')\n",
        "\n",
        "    def parse(self):\n",
        "        try:\n",
        "            self.PS(self.get_next_token())\n",
        "            self.SS(self.get_next_token())\n",
        "            self.Has_comma(self.get_next_token())\n",
        "            self.PE(self.get_next_token())\n",
        "            self.SS(self.get_next_token())\n",
        "\n",
        "            if self.index+1 < len(self.words):\n",
        "                raise Exception('This parser cannot handle this sentence parsing.')\n",
        "            self.index = -1\n",
        "            print('Parsing succcessful.')\n",
        "        except Exception as e:\n",
        "            print('Parsing Error: ',str(e))\n"
      ]
    },
    {
      "cell_type": "code",
      "execution_count": 9,
      "metadata": {
        "id": "2w2q9g_KQiQS"
      },
      "outputs": [],
      "source": [
        "sent = Complex_sentence_parser(\"যত পড়বে , তত জানবে\")"
      ]
    },
    {
      "cell_type": "code",
      "execution_count": 10,
      "metadata": {
        "colab": {
          "base_uri": "https://localhost:8080/"
        },
        "id": "GginhUB9QxVu",
        "outputId": "f09a6307-fbd1-48b4-ca36-8f9ce2e5a463"
      },
      "outputs": [
        {
          "name": "stdout",
          "output_type": "stream",
          "text": [
            "Parsing succcessful.\n"
          ]
        }
      ],
      "source": [
        "sent.parse()"
      ]
    }
  ],
  "metadata": {
    "colab": {
      "provenance": [],
      "toc_visible": true
    },
    "kernelspec": {
      "display_name": "Python 3",
      "name": "python3"
    },
    "language_info": {
      "codemirror_mode": {
        "name": "ipython",
        "version": 3
      },
      "file_extension": ".py",
      "mimetype": "text/x-python",
      "name": "python",
      "nbconvert_exporter": "python",
      "pygments_lexer": "ipython3",
      "version": "3.11.0"
    }
  },
  "nbformat": 4,
  "nbformat_minor": 0
}
